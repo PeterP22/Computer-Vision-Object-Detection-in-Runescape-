{
 "cells": [
  {
   "cell_type": "markdown",
   "id": "c75577ac",
   "metadata": {},
   "source": [
    "# **Instructions**:\n",
    "\n",
    "## Step 1: Setup\n",
    "- Make sure you have Python installed on your system. If not, download and install it from the official Python website.\n",
    "- Install the necessary Python libraries by running `pip install numpy win32gui win32ui win32con pillow`.\n",
    "\n",
    "## Step 2: Open your game\n",
    "- Open the game that you want to perform detections on.\n",
    "\n",
    "## Step 3: Identify the game window\n",
    "- Look at the title bar of the game window. This is usually at the top of the window and contains the name of the game.\n",
    "\n",
    "## Step 4: Update the script\n",
    "- Open the `1_generate_dataset.ipynb` file in your Python IDE (like PyCharm).\n",
    "- Find the line that says `window_name = \"Old School RuneScape\"`.\n",
    "- Replace `\"Old School RuneScape\"` with the name of your game's title bar. Make sure to keep the quotes around the name.\n",
    "\n",
    "## Step 5: Run the script\n",
    "- Run all cells in the `1_generate_dataset.ipynb` file. This will start generating your dataset in the `images` folder.\n",
    "\n",
    "## Step 6: Repeat for other scripts\n",
    "- Repeat steps 4 and 5 for the other scripts (`2_label_dataset.ipynb`, `3_train_model.ipynb`, `4_yolo_opencv_detector.ipynb`), making sure to update the `window_name` variable in each script.\n",
    "\n",
    "## Step 7: Check the output\n",
    "- After running all scripts, check the `images` folder to see the generated dataset.\n",
    "- If you encounter any errors, make sure you followed all steps correctly. If the error persists, seek help from a knowledgeable friend or online community."
   ]
  },
  {
   "cell_type": "code",
   "execution_count": 2,
   "id": "5f9c9c67",
   "metadata": {
    "ExecuteTime": {
     "end_time": "2024-01-15T05:33:20.303296400Z",
     "start_time": "2024-01-15T05:33:20.298210600Z"
    }
   },
   "outputs": [],
   "source": [
    "import numpy as np\n",
    "import win32gui, win32ui, win32con\n",
    "from PIL import Image\n",
    "from time import sleep\n",
    "import os\n",
    "\n",
    "class WindowCapture:\n",
    "    \"\"\"\n",
    "    A class used to capture screenshots from a specified window.\n",
    "\n",
    "    ...\n",
    "\n",
    "    Attributes\n",
    "    ----------\n",
    "    w : int\n",
    "        width of the window\n",
    "    h : int\n",
    "        height of the window\n",
    "    hwnd : int\n",
    "        handle to the window\n",
    "    cropped_x : int\n",
    "        cropped width due to border\n",
    "    cropped_y : int\n",
    "        cropped height due to title bar\n",
    "\n",
    "    Methods\n",
    "    -------\n",
    "    get_screenshot():\n",
    "        Captures a screenshot from the specified window.\n",
    "    generate_image_dataset():\n",
    "        Generates a dataset of images by continuously capturing screenshots from the window.\n",
    "    get_window_size():\n",
    "        Returns the size of the window.\n",
    "    save_image(img, path):\n",
    "        Saves the image to the specified path.\n",
    "    \"\"\"\n",
    "\n",
    "    def __init__(self, window_name):\n",
    "        \"\"\"Initializes WindowCapture with a window name.\"\"\"\n",
    "        self.hwnd = win32gui.FindWindow(None, window_name)\n",
    "        if not self.hwnd:\n",
    "            raise Exception('Window not found: {}'.format(window_name))\n",
    "\n",
    "        window_rect = win32gui.GetWindowRect(self.hwnd)\n",
    "        self.w = window_rect[2] - window_rect[0]\n",
    "        self.h = window_rect[3] - window_rect[1]\n",
    "\n",
    "        border_pixels = 8\n",
    "        titlebar_pixels = 30\n",
    "        self.w = self.w - (border_pixels * 2)\n",
    "        self.h = self.h - titlebar_pixels - border_pixels\n",
    "        self.cropped_x = border_pixels\n",
    "        self.cropped_y = titlebar_pixels\n",
    "\n",
    "    def get_screenshot(self):\n",
    "        \"\"\"Captures a screenshot from the specified window.\"\"\"\n",
    "        wDC = win32gui.GetWindowDC(self.hwnd)\n",
    "        dcObj = win32ui.CreateDCFromHandle(wDC)\n",
    "        cDC = dcObj.CreateCompatibleDC()\n",
    "        dataBitMap = win32ui.CreateBitmap()\n",
    "        dataBitMap.CreateCompatibleBitmap(dcObj, self.w, self.h)\n",
    "        cDC.SelectObject(dataBitMap)\n",
    "        cDC.BitBlt((0, 0), (self.w, self.h), dcObj, (self.cropped_x, self.cropped_y), win32con.SRCCOPY)\n",
    "\n",
    "        signedIntsArray = dataBitMap.GetBitmapBits(True)\n",
    "        img = np.frombuffer(signedIntsArray, dtype='uint8')\n",
    "        img.shape = (self.h, self.w, 4)\n",
    "\n",
    "        dcObj.DeleteDC()\n",
    "        cDC.DeleteDC()\n",
    "        win32gui.ReleaseDC(self.hwnd, wDC)\n",
    "        win32gui.DeleteObject(dataBitMap.GetHandle())\n",
    "\n",
    "        img = img[...,:3]\n",
    "        img = np.ascontiguousarray(img)\n",
    "\n",
    "        return img\n",
    "\n",
    "    def generate_image_dataset(self):\n",
    "        \"\"\"Generates a dataset of images by continuously capturing screenshots from the window.\"\"\"\n",
    "        if not os.path.exists(\"images\"):\n",
    "            try:\n",
    "                os.mkdir(\"images\")\n",
    "            except OSError:\n",
    "                print (\"Creation of the directory 'images' failed\")\n",
    "                return\n",
    "        while(True):\n",
    "            img = self.get_screenshot()\n",
    "            self.save_image(img, f\"./images/img_{len(os.listdir('images'))}.jpg\")\n",
    "            sleep(0.3)\n",
    "\n",
    "    def get_window_size(self):\n",
    "        \"\"\"Returns the size of the window.\"\"\"\n",
    "        return (self.w, self.h)\n",
    "\n",
    "    def save_image(self, img, path):\n",
    "        \"\"\"Saves the image to the specified path.\"\"\"\n",
    "        im = Image.fromarray(img[..., [2, 1, 0]])\n",
    "        im.save(path)"
   ]
  },
  {
   "cell_type": "code",
   "execution_count": 4,
   "id": "5507d47c",
   "metadata": {
    "ExecuteTime": {
     "end_time": "2024-01-15T05:36:20.846295Z",
     "start_time": "2024-01-15T05:35:28.048352Z"
    }
   },
   "outputs": [
    {
     "name": "stderr",
     "output_type": "stream",
     "text": [
      "C:\\Users\\pkmaz\\AppData\\Local\\Temp\\ipykernel_24960\\3344924937.py:32: DeprecationWarning: The binary mode of fromstring is deprecated, as it behaves surprisingly on unicode inputs. Use frombuffer instead\n",
      "  img = np.fromstring(signedIntsArray, dtype='uint8')\n"
     ]
    },
    {
     "ename": "KeyboardInterrupt",
     "evalue": "",
     "output_type": "error",
     "traceback": [
      "\u001B[1;31m---------------------------------------------------------------------------\u001B[0m",
      "\u001B[1;31mKeyboardInterrupt\u001B[0m                         Traceback (most recent call last)",
      "Cell \u001B[1;32mIn[4], line 6\u001B[0m\n\u001B[0;32m      3\u001B[0m window_name \u001B[38;5;241m=\u001B[39m \u001B[38;5;124m\"\u001B[39m\u001B[38;5;124mOld School RuneScape\u001B[39m\u001B[38;5;124m\"\u001B[39m\n\u001B[0;32m      5\u001B[0m wincap \u001B[38;5;241m=\u001B[39m WindowCapture(window_name)\n\u001B[1;32m----> 6\u001B[0m \u001B[43mwincap\u001B[49m\u001B[38;5;241;43m.\u001B[39;49m\u001B[43mgenerate_image_dataset\u001B[49m\u001B[43m(\u001B[49m\u001B[43m)\u001B[49m\n",
      "Cell \u001B[1;32mIn[2], line 52\u001B[0m, in \u001B[0;36mWindowCapture.generate_image_dataset\u001B[1;34m(self)\u001B[0m\n\u001B[0;32m     50\u001B[0m im \u001B[38;5;241m=\u001B[39m Image\u001B[38;5;241m.\u001B[39mfromarray(img[\u001B[38;5;241m.\u001B[39m\u001B[38;5;241m.\u001B[39m\u001B[38;5;241m.\u001B[39m, [\u001B[38;5;241m2\u001B[39m, \u001B[38;5;241m1\u001B[39m, \u001B[38;5;241m0\u001B[39m]])\n\u001B[0;32m     51\u001B[0m im\u001B[38;5;241m.\u001B[39msave(\u001B[38;5;124mf\u001B[39m\u001B[38;5;124m\"\u001B[39m\u001B[38;5;124m./images/img_\u001B[39m\u001B[38;5;132;01m{\u001B[39;00m\u001B[38;5;28mlen\u001B[39m(os\u001B[38;5;241m.\u001B[39mlistdir(\u001B[38;5;124m'\u001B[39m\u001B[38;5;124mimages\u001B[39m\u001B[38;5;124m'\u001B[39m))\u001B[38;5;132;01m}\u001B[39;00m\u001B[38;5;124m.jpg\u001B[39m\u001B[38;5;124m\"\u001B[39m)\n\u001B[1;32m---> 52\u001B[0m \u001B[43msleep\u001B[49m\u001B[43m(\u001B[49m\u001B[38;5;241;43m0.3\u001B[39;49m\u001B[43m)\u001B[49m\n",
      "\u001B[1;31mKeyboardInterrupt\u001B[0m: "
     ]
    }
   ],
   "source": [
    "# Execute this cell to generate a dataset of images for the specified window.\n",
    "window_name = \"Old School RuneScape\"  # Replace with the name of your game window\n",
    "\n",
    "# Create an instance of the WindowCapture class\n",
    "wincap = WindowCapture(window_name)\n",
    "\n",
    "# Start generating the image dataset\n",
    "wincap.generate_image_dataset()"
   ]
  }
 ],
 "metadata": {
  "kernelspec": {
   "display_name": "Python 3 (ipykernel)",
   "language": "python",
   "name": "python3"
  },
  "language_info": {
   "codemirror_mode": {
    "name": "ipython",
    "version": 3
   },
   "file_extension": ".py",
   "mimetype": "text/x-python",
   "name": "python",
   "nbconvert_exporter": "python",
   "pygments_lexer": "ipython3",
   "version": "3.11.3"
  }
 },
 "nbformat": 4,
 "nbformat_minor": 5
}
