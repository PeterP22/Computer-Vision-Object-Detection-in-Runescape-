{
 "cells": [
  {
   "cell_type": "markdown",
   "metadata": {
    "id": "y_ohotn_qybF"
   },
   "source": [
    "# **Instructions for Training the Model**:\n",
    "\n",
    "## Step 1: Upload the Notebook to Google Colab\n",
    "- This notebook needs to run on Google Colab due to its GPU capabilities. Upload this notebook to [Google Colab](https://colab.research.google.com/).\n",
    "\n",
    "## Step 2: Change the Runtime\n",
    "- Change the Google Colab runtime to \"GPU\" by navigating to \"Runtime\" > \"Change runtime type\". This allows the notebook to utilize the GPU for faster computation.\n",
    "\n",
    "## Step 3: Run All Cells\n",
    "- Run all cells in the notebook to start training your model. The cells include commands for setting up the environment, preparing the data, and initiating the training process.\n",
    "\n",
    "## Step 4: Copy the Weights File\n",
    "- After the last command finishes its execution, copy the file `yolov4-tiny/training/yolov4-tiny-custom_last.weights` from your Google Drive to the cloned project in the same folder as the `4_yolo_opencv_detector.ipynb` notebook. This weights file contains the trained model parameters."
   ]
  },
  {
   "cell_type": "code",
   "execution_count": null,
   "metadata": {
    "id": "eUeBO88DuSdj"
   },
   "outputs": [],
   "source": [
    "# Clone the darknet repository from GitHub. Darknet is an open-source neural network framework written in C and CUDA.\n",
    "!git clone https://github.com/AlexeyAB/darknet\n",
    "\n",
    "# Mount your Google Drive. This allows the notebook to access files in your Google Drive.\n",
    "from google.colab import drive\n",
    "drive.mount('/content/gdrive')\n",
    "\n",
    "# Create a symbolic link between '/content/gdrive/My Drive/' and '/mydrive'. This makes it easier to access your Google Drive.\n",
    "!ln -s /content/gdrive/My\\ Drive/ /mydrive\n",
    "\n",
    "# List the contents of the 'yolov4-tiny' directory in your Google Drive. This directory should contain the necessary files for training the model.\n",
    "!ls /mydrive/yolov4-tiny\n",
    "\n",
    "# Change the current directory to '/content/darknet/'. This is where the darknet framework is located.\n",
    "%cd /content/darknet/\n",
    "\n",
    "# Modify the Makefile to enable OpenCV, GPU, cuDNN, and cuDNN_HALF. These libraries provide functionalities for image processing, GPU acceleration, and deep neural networks.\n",
    "!sed -i 's/OPENCV=0/OPENCV=1/' Makefile\n",
    "!sed -i 's/GPU=0/GPU=1/' Makefile\n",
    "!sed -i 's/CUDNN=0/CUDNN=1/' Makefile\n",
    "!sed -i 's/CUDNN_HALF=0/CUDNN_HALF=1/' Makefile\n",
    "!sed -i 's/LIBSO=0/LIBSO=1/' Makefile\n",
    "\n",
    "# Compile the darknet framework. This creates the executable file for running the darknet commands.\n",
    "!make\n",
    "\n",
    "# Remove all files in the 'data' directory and create a new 'cfg' directory. These directories are used for storing the dataset and configuration files.\n",
    "%cd data/\n",
    "!find -maxdepth 1 -type f -exec rm -rf {} \\;\n",
    "%cd ..\n",
    "%rm -rf cfg/\n",
    "%mkdir cfg\n",
    "\n",
    "# Copy the necessary files from your Google Drive to the appropriate directories. These files include the dataset, configuration files, and the pre-trained weights.\n",
    "!cp /mydrive/yolov4-tiny/obj.zip ../\n",
    "!unzip ../obj.zip -d data/\n",
    "!cp /mydrive/yolov4-tiny/yolov4-tiny-custom.cfg ./cfg\n",
    "!cp /mydrive/yolov4-tiny/obj.names ./data\n",
    "!cp /mydrive/yolov4-tiny/obj.data  ./data\n",
    "!cp /mydrive/yolov4-tiny/process.py ./\n",
    "!cp /mydrive/yolov4-tiny/yolov4-tiny.conv.29 ./\n",
    "\n",
    "# Run the 'process.py' script. This script prepares the dataset for training.\n",
    "!python process.py\n",
    "\n",
    "# List the contents of the 'data' directory. This directory should now contain the prepared dataset.\n",
    "!ls data/\n",
    "\n",
    "# Start training the model. This command uses the darknet framework to train the YOLOv4 Tiny model on the prepared dataset.\n",
    "!./darknet detector train data/obj.data cfg/yolov4-tiny-custom.cfg yolov4-tiny.conv.29 -dont_show"
   ]
  }
 ],
 "metadata": {
  "accelerator": "GPU",
  "colab": {
   "gpuType": "T4",
   "provenance": []
  },
  "kernelspec": {
   "display_name": "Python 3 (ipykernel)",
   "language": "python",
   "name": "python3"
  },
  "language_info": {
   "codemirror_mode": {
    "name": "ipython",
    "version": 3
   },
   "file_extension": ".py",
   "mimetype": "text/x-python",
   "name": "python",
   "nbconvert_exporter": "python",
   "pygments_lexer": "ipython3",
   "version": "3.11.3"
  }
 },
 "nbformat": 4,
 "nbformat_minor": 1
}
